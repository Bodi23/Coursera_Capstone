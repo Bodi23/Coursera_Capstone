{
 "cells": [
  {
   "cell_type": "markdown",
   "metadata": {},
   "source": [
    "This notebook will be used for the final assessment of the Applied Data Science Capstone Unit"
   ]
  },
  {
   "cell_type": "code",
   "execution_count": 1,
   "metadata": {},
   "outputs": [],
   "source": [
    "import pandas as pd\n",
    "import numpy as np"
   ]
  },
  {
   "cell_type": "markdown",
   "metadata": {},
   "source": [
    "<center>\n",
    "    <img src=\"https://www.apsi.edu.au/wp-content/uploads/b-111811.jpg\" width=\"600\" alt=\"Perth, Western Australia\"  />\n",
    "</center>\n",
    "\n",
    "# Expatriates moving to Perth, Western Australia"
   ]
  },
  {
   "cell_type": "markdown",
   "metadata": {},
   "source": [
    "<h1>Table of contents</h1>\n",
    "\n",
    "<div class=\"alert alert-block alert-info\" style=\"margin-top: 20px\">\n",
    "    <ol>\n",
    "        <li><a href=\"#context\">Context</a></li>\n",
    "        <li><a href=\"#business_problem\">Business Problem</a></li>\n",
    "        <li><a href=\"#target_audience\">Target Audience</a></li>\n",
    "        <li><a href=\"#data\">Data</a></li>\n",
    "        <li><a href=\"#libraries\">Libraries</a></li>\n",
    "        <li><a href=\"#prediction\">Prediction</a></li>\n",
    "        <li><a href=\"#evaluation\">Evaluation</a></li>\n",
    "        <li><a href=\"#visualization\">Visualization</a></li>\n",
    "    </ol>\n",
    "</div>\n",
    "<br>\n",
    "<hr>"
   ]
  },
  {
   "cell_type": "markdown",
   "metadata": {},
   "source": [
    "<div id=\"context\">\n",
    "    <h2>Context</h2>\n",
    "Perth, Western Australia\n",
    "    <br>\n",
    "Population: 1.985 million (2016)\n",
    "    <br>\n",
    "Long/Lat Coordinates: 31.9505° S, 115.8605° E\n",
    "    <br>\n",
    "    <br>\n",
    "About: Situated along the estuary of the Swan River, 12 miles (19 km) above the river’s mouth, Perth is the fourth largest city in Australia and contains about three-fourths of the state’s population.\n",
    "    <br>\n",
    "    <br>\n",
    "Declared by the New York Times as a ‘hipster haven’, Perth bustles with new cultural spaces, bars and restaurants and is just a short drive away from the Swan Valley and a string of stunning beaches.\n",
    "    <br>\n",
    "    <br>\n",
    "As Western Australia has an abundance of natural resources, several international mining and energy companies have established significant operations within various regions of the state. As a result of this, it is common for Expatriate employees from all over the world to move to Perth, Western Australia for a rotation.\n",
    "</div>"
   ]
  },
  {
   "cell_type": "markdown",
   "metadata": {},
   "source": [
    "<div id=\"business_problem\">\n",
    "    <h2>Business Problem</h2>\n",
    "One of the difficulties when relocating to a new country is obtaining summarized information on suburbs within a city that provide factual, data backed rankings accurately depicting how suburbs compare against one another. In many instances, this information is subjective and acquired via written testimony or through reviewer star rating systems. Although advantageous to review these summaries and opinions, this kind of analysis relies on the reviewers holding similar interests and expectations of the facilities in close proximity to the area.\n",
    "    <br>\n",
    "    <br>\n",
    "An opportunity exists to leverage data science techniques to evaluate suburbs objectively, based on the presence or absence of certain facilities, the proximity the suburb is to these, and other social-economic influences such as crime rate etc."
   ]
  },
  {
   "cell_type": "markdown",
   "metadata": {},
   "source": [
    "<div id=\"target_audience\">\n",
    "    <h2>Target Audience</h2>\n",
    "The analysis within this project will assist expatriates arriving in Perth, Western Australia to gain a better understanding of which suburbs have the most appealing facilities around their neighbourhood.\n",
    "    <br>\n",
    "    <br>\n",
    "The features will factor housing prices, quality of schooling according to ratings, crime rates, proximity to hospitals and proximity to the beach.\n",
    "    <br>\n",
    "    <br>\n",
    "This information can also be leveraged by those visiting Perth, Western Australia on short stay durations, such as those leasing AirBnb properties while on vacation or for business purposes."
   ]
  },
  {
   "cell_type": "markdown",
   "metadata": {},
   "source": [
    "<div id=\"data\">\n",
    "    <h2>Data</h2>\n",
    "This analysis will explore data relating to the following features for all Western Australian Postcodes, inclusive of the following:\n",
    "    <br>\n",
    "1) ID\n",
    "    <br>\n",
    "2) Longitude\n",
    "    <br>\n",
    "3) Latitude\n",
    "    <br>\n",
    "4) Postcode\n",
    "    <br>\n",
    "5) Locality\n",
    "    <br>\n",
    "6) Region\n",
    "    <br>\n",
    "7) State\n",
    "    <br>\n",
    "8) SA3 Name\n",
    "    <br>\n",
    "9) SA4 Name\n",
    "    <br>\n",
    "    <br>\n",
    "Foursquare API data\n",
    "    <br>\n",
    "* Foursquare provides location information including venues and events within the area of interest.\n",
    "    <br>\n",
    "* The combination of these two data sets will be used to rank the suburbs comparatively to provide an indication of which suburbs are deemed to be most appropriate for expatriates as they explore potential housing options.\n",
    "\n",
    "    "
   ]
  },
  {
   "cell_type": "markdown",
   "metadata": {},
   "source": [
    "<div id=\"libraries\">\n",
    "    <h2>Libraries</h2>\n",
    "The following libraries will be leveraged for the analysis:\n",
    "    <br>\n",
    "* Pandas: For creating and manipulating dataframes.\n",
    "    <br>\n",
    "* Scikit Learn: For importing k-means clustering.\n",
    "    <br>\n",
    "* JSON: Library to handle JSON files.\n",
    "    <br>\n",
    "* XML: To separate data from presentation and XML stores data in plain text format.\n",
    "    <br>\n",
    "* Geocoder: To retrieve Location Data.\n",
    "    <br>\n",
    "* Beautiful Soup and Requests: To scrap and library to handle http requests.\n",
    "    <br>\n",
    "* Matplotlib: Python Plotting Module\n",
    "        <br>\n",
    "* Folium: Python visualization library would be used to visualize the neighbourhoods cluster distribution of using interactive leaflet map."
   ]
  },
  {
   "cell_type": "markdown",
   "metadata": {},
   "source": [
    "<h2>End of Week 1</h2>"
   ]
  },
  {
   "cell_type": "markdown",
   "metadata": {},
   "source": [
    "Week 2 will cover the following:\n",
    "<br>\n",
    "* An Introduction where the business problem and target audience will be discussed.\n",
    "<br>\n",
    "* An overview of the data and sources of data\n",
    "<br>\n",
    "* A methodology section where a description of exploratory data and analysis is provided\n",
    "<br>\n",
    "* Results and findings\n",
    "<br>\n",
    "* Discussion of findings and recommendations\n",
    "<br>\n",
    "* A PowerPoint presentation summary\n",
    "<br>"
   ]
  },
  {
   "cell_type": "code",
   "execution_count": null,
   "metadata": {},
   "outputs": [],
   "source": []
  }
 ],
 "metadata": {
  "kernelspec": {
   "display_name": "Python",
   "language": "python",
   "name": "conda-env-python-py"
  },
  "language_info": {
   "codemirror_mode": {
    "name": "ipython",
    "version": 3
   },
   "file_extension": ".py",
   "mimetype": "text/x-python",
   "name": "python",
   "nbconvert_exporter": "python",
   "pygments_lexer": "ipython3",
   "version": "3.6.13"
  }
 },
 "nbformat": 4,
 "nbformat_minor": 4
}
